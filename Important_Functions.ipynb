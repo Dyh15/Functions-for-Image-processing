{
  "nbformat": 4,
  "nbformat_minor": 0,
  "metadata": {
    "colab": {
      "provenance": []
    },
    "kernelspec": {
      "name": "python3",
      "display_name": "Python 3"
    },
    "language_info": {
      "name": "python"
    }
  },
  "cells": [
    {
      "cell_type": "markdown",
      "source": [
        "Pour s'assurer que les images sont bien en format tiff"
      ],
      "metadata": {
        "id": "2kw4REHnXVqk"
      }
    },
    {
      "cell_type": "code",
      "execution_count": null,
      "metadata": {
        "id": "Vz35XB6BxDVO"
      },
      "outputs": [],
      "source": [
        "path1= os.path.join('/', 'content', 'Dataset','Dataset','Saines')"
      ]
    },
    {
      "cell_type": "code",
      "execution_count": null,
      "metadata": {
        "colab": {
          "background_save": true
        },
        "id": "lGgN1HJ5IT8x"
      },
      "outputs": [],
      "source": [
        "for Saines in [path1]:\n",
        "    for filename in os.listdir(Saines):\n",
        "        if filename.endswith('.tiff'): # Afficher seulement les images tiff\n",
        "            # Charger l'image\n",
        "            img_path = os.path.join(Saines, filename)\n",
        "            img = Image.open(img_path)\n",
        "            # Afficher l'image\n",
        "            img.show()"
      ]
    },
    {
      "cell_type": "markdown",
      "source": [
        "Redimensionnement d'images"
      ],
      "metadata": {
        "id": "ZQs-fc0_TEiV"
      }
    },
    {
      "cell_type": "code",
      "execution_count": null,
      "metadata": {
        "id": "0feWsRBu6yY_"
      },
      "outputs": [],
      "source": [
        "# fonction de redimensionnement d'image\n",
        "def resize_image(img_path):\n",
        "    img = Image.open(img_path)\n",
        "    img = img.resize(target_size)\n",
        "    return img\n",
        "for subdir in ['train', 'val']:\n",
        "    subdir_path = os.path.join(path_data, subdir)\n",
        "    resized_subdir_path = os.path.join(path_data, f\"{subdir}_resized\")\n",
        "    os.makedirs(resized_subdir_path, exist_ok=True)\n",
        "\n",
        "    for filename in os.listdir(subdir_path):\n",
        "        img_path = os.path.join(subdir_path, filename)\n",
        "        resized_img_path = os.path.join(resized_subdir_path, filename)\n",
        "        # redimensionnement de l'image et sauvegarde dans un nouveau sous-dossier\n",
        "        img = resize_image(img_path)\n",
        "        img.save(resized_img_path)"
      ]
    }
  ]
}